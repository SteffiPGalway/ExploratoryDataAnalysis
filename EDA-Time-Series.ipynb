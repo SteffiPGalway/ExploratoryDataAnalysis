{
 "cells": [
  {
   "cell_type": "markdown",
   "id": "de6286d4-daee-4347-8fe2-755e6363ed40",
   "metadata": {},
   "source": [
    "# Exploratory Data Analysis of Time Series "
   ]
  },
  {
   "cell_type": "markdown",
   "id": "0d7ae80f-954a-4ac7-b3ee-d4c969002f39",
   "metadata": {},
   "source": [
    "We will prepare the time series data for forecasting models."
   ]
  },
  {
   "cell_type": "code",
   "execution_count": 1,
   "id": "d3c398d1-352a-4427-8f60-16a7ad5a83bc",
   "metadata": {},
   "outputs": [],
   "source": [
    "# import necessary Python packages \n",
    "import pandas as pd\n",
    "import datetime as dt\n",
    "import numpy as np"
   ]
  },
  {
   "cell_type": "code",
   "execution_count": 2,
   "id": "3da0f894-84fa-4373-8374-be417b9cd185",
   "metadata": {},
   "outputs": [],
   "source": [
    "# adjust the format of the dataset\n",
    "pd.options.display.float_format = '{:,.2f}'.format\n",
    "np.set_printoptions(precision=2)"
   ]
  },
  {
   "cell_type": "markdown",
   "id": "97cb547e-f97d-4248-831c-a0dc67c2e587",
   "metadata": {},
   "source": [
    "## Time Series Exploration and Understanding"
   ]
  },
  {
   "cell_type": "markdown",
   "id": "ac9b6778-6181-4c86-9d2a-c545ff82c52b",
   "metadata": {},
   "source": [
    "We will show how to explore, analyse, and understand time series data."
   ]
  },
  {
   "cell_type": "code",
   "execution_count": 3,
   "id": "ae3faed1-5db4-4fcf-9126-42f79476010f",
   "metadata": {},
   "outputs": [],
   "source": [
    "ts_data = pd.read_csv('train.csv')"
   ]
  },
  {
   "cell_type": "markdown",
   "id": "e280f794-8f5d-4105-9226-3a555b8f32ab",
   "metadata": {},
   "source": [
    "### Get Started"
   ]
  },
  {
   "cell_type": "markdown",
   "id": "7778cea2-4d17-48cc-943a-57ce67daa7df",
   "metadata": {},
   "source": [
    "The head() functions returns the first 5 rows of the time series data set to get an overview of the structure and type of data."
   ]
  },
  {
   "cell_type": "code",
   "execution_count": 4,
   "id": "313c6c57-18a4-4134-8413-12e027f17372",
   "metadata": {},
   "outputs": [
    {
     "data": {
      "text/html": [
       "<div>\n",
       "<style scoped>\n",
       "    .dataframe tbody tr th:only-of-type {\n",
       "        vertical-align: middle;\n",
       "    }\n",
       "\n",
       "    .dataframe tbody tr th {\n",
       "        vertical-align: top;\n",
       "    }\n",
       "\n",
       "    .dataframe thead th {\n",
       "        text-align: right;\n",
       "    }\n",
       "</style>\n",
       "<table border=\"1\" class=\"dataframe\">\n",
       "  <thead>\n",
       "    <tr style=\"text-align: right;\">\n",
       "      <th></th>\n",
       "      <th>Date</th>\n",
       "      <th>store</th>\n",
       "      <th>product</th>\n",
       "      <th>number_sold</th>\n",
       "    </tr>\n",
       "  </thead>\n",
       "  <tbody>\n",
       "    <tr>\n",
       "      <th>0</th>\n",
       "      <td>2010-01-01</td>\n",
       "      <td>0</td>\n",
       "      <td>0</td>\n",
       "      <td>801</td>\n",
       "    </tr>\n",
       "    <tr>\n",
       "      <th>1</th>\n",
       "      <td>2010-01-02</td>\n",
       "      <td>0</td>\n",
       "      <td>0</td>\n",
       "      <td>810</td>\n",
       "    </tr>\n",
       "    <tr>\n",
       "      <th>2</th>\n",
       "      <td>2010-01-03</td>\n",
       "      <td>0</td>\n",
       "      <td>0</td>\n",
       "      <td>818</td>\n",
       "    </tr>\n",
       "    <tr>\n",
       "      <th>3</th>\n",
       "      <td>2010-01-04</td>\n",
       "      <td>0</td>\n",
       "      <td>0</td>\n",
       "      <td>796</td>\n",
       "    </tr>\n",
       "    <tr>\n",
       "      <th>4</th>\n",
       "      <td>2010-01-05</td>\n",
       "      <td>0</td>\n",
       "      <td>0</td>\n",
       "      <td>808</td>\n",
       "    </tr>\n",
       "  </tbody>\n",
       "</table>\n",
       "</div>"
      ],
      "text/plain": [
       "         Date  store  product  number_sold\n",
       "0  2010-01-01      0        0          801\n",
       "1  2010-01-02      0        0          810\n",
       "2  2010-01-03      0        0          818\n",
       "3  2010-01-04      0        0          796\n",
       "4  2010-01-05      0        0          808"
      ]
     },
     "execution_count": 4,
     "metadata": {},
     "output_type": "execute_result"
    }
   ],
   "source": [
    "ts_data.head(5)"
   ]
  },
  {
   "cell_type": "code",
   "execution_count": 5,
   "id": "d8a5257b-20a9-445d-b461-8f95dea461b0",
   "metadata": {},
   "outputs": [
    {
     "data": {
      "text/html": [
       "<div>\n",
       "<style scoped>\n",
       "    .dataframe tbody tr th:only-of-type {\n",
       "        vertical-align: middle;\n",
       "    }\n",
       "\n",
       "    .dataframe tbody tr th {\n",
       "        vertical-align: top;\n",
       "    }\n",
       "\n",
       "    .dataframe thead th {\n",
       "        text-align: right;\n",
       "    }\n",
       "</style>\n",
       "<table border=\"1\" class=\"dataframe\">\n",
       "  <thead>\n",
       "    <tr style=\"text-align: right;\">\n",
       "      <th></th>\n",
       "      <th>Date</th>\n",
       "      <th>store</th>\n",
       "      <th>product</th>\n",
       "      <th>number_sold</th>\n",
       "    </tr>\n",
       "  </thead>\n",
       "  <tbody>\n",
       "    <tr>\n",
       "      <th>230085</th>\n",
       "      <td>2018-12-27</td>\n",
       "      <td>6</td>\n",
       "      <td>9</td>\n",
       "      <td>890</td>\n",
       "    </tr>\n",
       "    <tr>\n",
       "      <th>230086</th>\n",
       "      <td>2018-12-28</td>\n",
       "      <td>6</td>\n",
       "      <td>9</td>\n",
       "      <td>892</td>\n",
       "    </tr>\n",
       "    <tr>\n",
       "      <th>230087</th>\n",
       "      <td>2018-12-29</td>\n",
       "      <td>6</td>\n",
       "      <td>9</td>\n",
       "      <td>895</td>\n",
       "    </tr>\n",
       "    <tr>\n",
       "      <th>230088</th>\n",
       "      <td>2018-12-30</td>\n",
       "      <td>6</td>\n",
       "      <td>9</td>\n",
       "      <td>899</td>\n",
       "    </tr>\n",
       "    <tr>\n",
       "      <th>230089</th>\n",
       "      <td>2018-12-31</td>\n",
       "      <td>6</td>\n",
       "      <td>9</td>\n",
       "      <td>912</td>\n",
       "    </tr>\n",
       "  </tbody>\n",
       "</table>\n",
       "</div>"
      ],
      "text/plain": [
       "              Date  store  product  number_sold\n",
       "230085  2018-12-27      6        9          890\n",
       "230086  2018-12-28      6        9          892\n",
       "230087  2018-12-29      6        9          895\n",
       "230088  2018-12-30      6        9          899\n",
       "230089  2018-12-31      6        9          912"
      ]
     },
     "execution_count": 5,
     "metadata": {},
     "output_type": "execute_result"
    }
   ],
   "source": [
    "ts_data.tail(5)"
   ]
  },
  {
   "cell_type": "markdown",
   "id": "dbf0685e-2d45-4b25-8e23-6991b9d0b65e",
   "metadata": {},
   "source": [
    "The dataset contains the daily date time stamp column, the store, the product, and the number sold."
   ]
  },
  {
   "cell_type": "markdown",
   "id": "1e78b11e-a298-49e6-9fd2-55344cc0240d",
   "metadata": {},
   "source": [
    "It is important to know whether the dataset contains missing values. For this reason, we use the isna() function."
   ]
  },
  {
   "cell_type": "code",
   "execution_count": 6,
   "id": "497d443c-96b8-4a5b-87e9-e7c4fb9def8c",
   "metadata": {},
   "outputs": [
    {
     "data": {
      "text/plain": [
       "Date           0\n",
       "store          0\n",
       "product        0\n",
       "number_sold    0\n",
       "dtype: int64"
      ]
     },
     "execution_count": 6,
     "metadata": {},
     "output_type": "execute_result"
    }
   ],
   "source": [
    "ts_data.isna().sum()"
   ]
  },
  {
   "cell_type": "markdown",
   "id": "23d6e3ca-e178-4682-ba2d-63dea5867b3b",
   "metadata": {},
   "source": [
    "We do not have any missing values. Now we would like to understand the format of the data. For this reason, we will use the pandas dtypes function."
   ]
  },
  {
   "cell_type": "code",
   "execution_count": 7,
   "id": "7c2fa5a3-c164-4054-ab87-f9abef120c72",
   "metadata": {},
   "outputs": [
    {
     "data": {
      "text/plain": [
       "Date           object\n",
       "store           int64\n",
       "product         int64\n",
       "number_sold     int64\n",
       "dtype: object"
      ]
     },
     "execution_count": 7,
     "metadata": {},
     "output_type": "execute_result"
    }
   ],
   "source": [
    "ts_data.dtypes"
   ]
  },
  {
   "cell_type": "markdown",
   "id": "031866d6-57a2-47fc-ac27-01580e61cb93",
   "metadata": {},
   "source": [
    "The store, the product, and the number sold columns are integers that occupies 64 bits of storage. The date column is in  string format. "
   ]
  },
  {
   "cell_type": "code",
   "execution_count": 8,
   "id": "8460f88a-2c9e-4223-8d5d-a548c29013ca",
   "metadata": {},
   "outputs": [
    {
     "data": {
      "text/plain": [
       "RangeIndex(start=0, stop=230090, step=1)"
      ]
     },
     "execution_count": 8,
     "metadata": {},
     "output_type": "execute_result"
    }
   ],
   "source": [
    "ts_data.index"
   ]
  },
  {
   "cell_type": "markdown",
   "id": "f7191901-097f-4e03-a905-5e8eff71ac94",
   "metadata": {},
   "source": [
    "In addition, it is Range index. It is required to convert it into date time index format. "
   ]
  },
  {
   "cell_type": "code",
   "execution_count": 9,
   "id": "9364888a-5f01-4141-a1a4-76273452c208",
   "metadata": {},
   "outputs": [
    {
     "data": {
      "text/plain": [
       "3287"
      ]
     },
     "execution_count": 9,
     "metadata": {},
     "output_type": "execute_result"
    }
   ],
   "source": [
    "len(ts_data['Date'].unique())"
   ]
  },
  {
   "cell_type": "markdown",
   "id": "ffb40560-1460-4b2b-8122-5248bcfbd31e",
   "metadata": {},
   "source": [
    "There are 3287 unique days in the dataset."
   ]
  },
  {
   "cell_type": "code",
   "execution_count": 10,
   "id": "967afc55-6926-400e-934d-027969fe4e77",
   "metadata": {},
   "outputs": [],
   "source": [
    "ts_data['Date'] = pd.to_datetime(ts_data['Date'])\n",
    "ts_data = ts_data.set_index('Date')"
   ]
  },
  {
   "cell_type": "code",
   "execution_count": 11,
   "id": "49645476-8573-43f1-9dfb-0365c0ab440b",
   "metadata": {},
   "outputs": [
    {
     "data": {
      "text/plain": [
       "DatetimeIndex(['2010-01-01', '2010-01-02', '2010-01-03', '2010-01-04',\n",
       "               '2010-01-05', '2010-01-06', '2010-01-07', '2010-01-08',\n",
       "               '2010-01-09', '2010-01-10',\n",
       "               ...\n",
       "               '2018-12-22', '2018-12-23', '2018-12-24', '2018-12-25',\n",
       "               '2018-12-26', '2018-12-27', '2018-12-28', '2018-12-29',\n",
       "               '2018-12-30', '2018-12-31'],\n",
       "              dtype='datetime64[ns]', name='Date', length=230090, freq=None)"
      ]
     },
     "execution_count": 11,
     "metadata": {},
     "output_type": "execute_result"
    }
   ],
   "source": [
    "ts_data.index"
   ]
  },
  {
   "cell_type": "markdown",
   "id": "d998ba85-c72e-4f6d-93a6-5a4c1438d9e3",
   "metadata": {},
   "source": [
    "Now it is a Datetime Index."
   ]
  },
  {
   "cell_type": "code",
   "execution_count": 12,
   "id": "f8d48092-39ce-4a8c-b83d-6c9847584d0e",
   "metadata": {},
   "outputs": [
    {
     "data": {
      "text/plain": [
       "7"
      ]
     },
     "execution_count": 12,
     "metadata": {},
     "output_type": "execute_result"
    }
   ],
   "source": [
    "len(ts_data['store'].unique())"
   ]
  },
  {
   "cell_type": "markdown",
   "id": "7998dcf5-42e0-40b8-8840-18782afb9403",
   "metadata": {},
   "source": [
    "There are 7 unique stores."
   ]
  },
  {
   "cell_type": "code",
   "execution_count": 13,
   "id": "19b217c8-a70f-464a-b85e-817ce602dd01",
   "metadata": {},
   "outputs": [
    {
     "data": {
      "text/plain": [
       "10"
      ]
     },
     "execution_count": 13,
     "metadata": {},
     "output_type": "execute_result"
    }
   ],
   "source": [
    "len(ts_data['product'].unique())"
   ]
  },
  {
   "cell_type": "markdown",
   "id": "d4573642-5d72-4e69-b471-09c4d63948f2",
   "metadata": {},
   "source": [
    "There are 10 unique products. For the demonstration we will focus on the store 0 and the product 0."
   ]
  },
  {
   "cell_type": "code",
   "execution_count": 14,
   "id": "ef798ad1-7d06-4cb9-91da-063239874dc6",
   "metadata": {},
   "outputs": [
    {
     "data": {
      "text/html": [
       "<div>\n",
       "<style scoped>\n",
       "    .dataframe tbody tr th:only-of-type {\n",
       "        vertical-align: middle;\n",
       "    }\n",
       "\n",
       "    .dataframe tbody tr th {\n",
       "        vertical-align: top;\n",
       "    }\n",
       "\n",
       "    .dataframe thead th {\n",
       "        text-align: right;\n",
       "    }\n",
       "</style>\n",
       "<table border=\"1\" class=\"dataframe\">\n",
       "  <thead>\n",
       "    <tr style=\"text-align: right;\">\n",
       "      <th></th>\n",
       "      <th>store</th>\n",
       "      <th>product</th>\n",
       "      <th>number_sold</th>\n",
       "    </tr>\n",
       "    <tr>\n",
       "      <th>Date</th>\n",
       "      <th></th>\n",
       "      <th></th>\n",
       "      <th></th>\n",
       "    </tr>\n",
       "  </thead>\n",
       "  <tbody>\n",
       "    <tr>\n",
       "      <th>2010-01-01</th>\n",
       "      <td>0</td>\n",
       "      <td>0</td>\n",
       "      <td>801</td>\n",
       "    </tr>\n",
       "    <tr>\n",
       "      <th>2010-01-02</th>\n",
       "      <td>0</td>\n",
       "      <td>0</td>\n",
       "      <td>810</td>\n",
       "    </tr>\n",
       "    <tr>\n",
       "      <th>2010-01-03</th>\n",
       "      <td>0</td>\n",
       "      <td>0</td>\n",
       "      <td>818</td>\n",
       "    </tr>\n",
       "    <tr>\n",
       "      <th>2010-01-04</th>\n",
       "      <td>0</td>\n",
       "      <td>0</td>\n",
       "      <td>796</td>\n",
       "    </tr>\n",
       "    <tr>\n",
       "      <th>2010-01-05</th>\n",
       "      <td>0</td>\n",
       "      <td>0</td>\n",
       "      <td>808</td>\n",
       "    </tr>\n",
       "    <tr>\n",
       "      <th>...</th>\n",
       "      <td>...</td>\n",
       "      <td>...</td>\n",
       "      <td>...</td>\n",
       "    </tr>\n",
       "    <tr>\n",
       "      <th>2018-12-27</th>\n",
       "      <td>0</td>\n",
       "      <td>0</td>\n",
       "      <td>847</td>\n",
       "    </tr>\n",
       "    <tr>\n",
       "      <th>2018-12-28</th>\n",
       "      <td>0</td>\n",
       "      <td>0</td>\n",
       "      <td>854</td>\n",
       "    </tr>\n",
       "    <tr>\n",
       "      <th>2018-12-29</th>\n",
       "      <td>0</td>\n",
       "      <td>0</td>\n",
       "      <td>839</td>\n",
       "    </tr>\n",
       "    <tr>\n",
       "      <th>2018-12-30</th>\n",
       "      <td>0</td>\n",
       "      <td>0</td>\n",
       "      <td>847</td>\n",
       "    </tr>\n",
       "    <tr>\n",
       "      <th>2018-12-31</th>\n",
       "      <td>0</td>\n",
       "      <td>0</td>\n",
       "      <td>839</td>\n",
       "    </tr>\n",
       "  </tbody>\n",
       "</table>\n",
       "<p>3287 rows × 3 columns</p>\n",
       "</div>"
      ],
      "text/plain": [
       "            store  product  number_sold\n",
       "Date                                   \n",
       "2010-01-01      0        0          801\n",
       "2010-01-02      0        0          810\n",
       "2010-01-03      0        0          818\n",
       "2010-01-04      0        0          796\n",
       "2010-01-05      0        0          808\n",
       "...           ...      ...          ...\n",
       "2018-12-27      0        0          847\n",
       "2018-12-28      0        0          854\n",
       "2018-12-29      0        0          839\n",
       "2018-12-30      0        0          847\n",
       "2018-12-31      0        0          839\n",
       "\n",
       "[3287 rows x 3 columns]"
      ]
     },
     "execution_count": 14,
     "metadata": {},
     "output_type": "execute_result"
    }
   ],
   "source": [
    "# Store 0 with product 0\n",
    "s1p1 = ts_data[(ts_data['store'] == 0) & (ts_data['product'] == 0)]\n",
    "s1p1"
   ]
  },
  {
   "cell_type": "code",
   "execution_count": 15,
   "id": "f2cb519b-f498-482a-9252-b7382dfd3715",
   "metadata": {},
   "outputs": [
    {
     "data": {
      "text/plain": [
       "<Axes: title={'center': 'Number of Product 0 sold In the first store'}, xlabel='Date', ylabel='Number Sold'>"
      ]
     },
     "execution_count": 15,
     "metadata": {},
     "output_type": "execute_result"
    },
    {
     "data": {
      "image/png": "[encoded data removed]",
      "text/plain": [
       "<Figure size 1500x600 with 1 Axes>"
      ]
     },
     "metadata": {},
     "output_type": "display_data"
    }
   ],
   "source": [
    "s1p1['number_sold'].plot(figsize = (15, 6), title='Number of Product 0 sold In the first store', xlabel='Date', ylabel='Number Sold')"
   ]
  },
  {
   "cell_type": "markdown",
   "id": "ca9e01d3-4e47-475b-8d48-51ea22b475c7",
   "metadata": {},
   "source": [
    "Another way to convert the \"date\" column to a date time format is the argument `parse_dates` of the Pandas read_csv method."
   ]
  },
  {
   "cell_type": "code",
   "execution_count": 16,
   "id": "4cae4d8f-4c3c-437d-97f9-7fdb9155d47a",
   "metadata": {},
   "outputs": [],
   "source": [
    "sales_data = pd.read_csv(\"train.csv\", parse_dates =[\"Date\"], index_col =\"Date\")"
   ]
  },
  {
   "cell_type": "code",
   "execution_count": 17,
   "id": "8396ea2c-14af-468b-91bb-19e71254d0b4",
   "metadata": {},
   "outputs": [
    {
     "data": {
      "text/plain": [
       "DatetimeIndex(['2010-01-01', '2010-01-02', '2010-01-03', '2010-01-04',\n",
       "               '2010-01-05', '2010-01-06', '2010-01-07', '2010-01-08',\n",
       "               '2010-01-09', '2010-01-10',\n",
       "               ...\n",
       "               '2018-12-22', '2018-12-23', '2018-12-24', '2018-12-25',\n",
       "               '2018-12-26', '2018-12-27', '2018-12-28', '2018-12-29',\n",
       "               '2018-12-30', '2018-12-31'],\n",
       "              dtype='datetime64[ns]', name='Date', length=230090, freq=None)"
      ]
     },
     "execution_count": 17,
     "metadata": {},
     "output_type": "execute_result"
    }
   ],
   "source": [
    "sales_data.index"
   ]
  },
  {
   "cell_type": "markdown",
   "id": "4cb8695f-c322-4fea-ad82-c0d348018fe4",
   "metadata": {},
   "source": [
    "We can slice the dataset to access only specific parts of the time sequences."
   ]
  },
  {
   "cell_type": "code",
   "execution_count": 18,
   "id": "db05c1e3-b4d8-4636-8480-58dfc93acecd",
   "metadata": {},
   "outputs": [
    {
     "data": {
      "text/plain": [
       "DatetimeIndex(['2010-01-01', '2010-01-02', '2010-01-03', '2010-01-04',\n",
       "               '2010-01-05'],\n",
       "              dtype='datetime64[ns]', name='Date', freq=None)"
      ]
     },
     "execution_count": 18,
     "metadata": {},
     "output_type": "execute_result"
    }
   ],
   "source": [
    "sales_data[:5].index"
   ]
  },
  {
   "cell_type": "code",
   "execution_count": 19,
   "id": "d47c2bd8-0885-47dc-b220-e6571607cc99",
   "metadata": {},
   "outputs": [
    {
     "data": {
      "text/plain": [
       "DatetimeIndex(['2010-01-01', '2010-01-02'], dtype='datetime64[ns]', name='Date', freq=None)"
      ]
     },
     "execution_count": 19,
     "metadata": {},
     "output_type": "execute_result"
    }
   ],
   "source": [
    "sales_data[:2].index"
   ]
  },
  {
   "cell_type": "markdown",
   "id": "4804f9d2-1ad8-4107-aed5-6e1e3001369b",
   "metadata": {},
   "source": [
    "We can also specifies a stop time."
   ]
  },
  {
   "cell_type": "code",
   "execution_count": 20,
   "id": "20b4e6ea-5f7e-42d6-90e5-fffd3706bf03",
   "metadata": {},
   "outputs": [
    {
     "data": {
      "text/html": [
       "<div>\n",
       "<style scoped>\n",
       "    .dataframe tbody tr th:only-of-type {\n",
       "        vertical-align: middle;\n",
       "    }\n",
       "\n",
       "    .dataframe tbody tr th {\n",
       "        vertical-align: top;\n",
       "    }\n",
       "\n",
       "    .dataframe thead th {\n",
       "        text-align: right;\n",
       "    }\n",
       "</style>\n",
       "<table border=\"1\" class=\"dataframe\">\n",
       "  <thead>\n",
       "    <tr style=\"text-align: right;\">\n",
       "      <th></th>\n",
       "      <th>store</th>\n",
       "      <th>product</th>\n",
       "      <th>number_sold</th>\n",
       "    </tr>\n",
       "    <tr>\n",
       "      <th>Date</th>\n",
       "      <th></th>\n",
       "      <th></th>\n",
       "      <th></th>\n",
       "    </tr>\n",
       "  </thead>\n",
       "  <tbody>\n",
       "    <tr>\n",
       "      <th>2018-12-22</th>\n",
       "      <td>0</td>\n",
       "      <td>0</td>\n",
       "      <td>843</td>\n",
       "    </tr>\n",
       "    <tr>\n",
       "      <th>2018-12-23</th>\n",
       "      <td>0</td>\n",
       "      <td>0</td>\n",
       "      <td>818</td>\n",
       "    </tr>\n",
       "    <tr>\n",
       "      <th>2018-12-24</th>\n",
       "      <td>0</td>\n",
       "      <td>0</td>\n",
       "      <td>826</td>\n",
       "    </tr>\n",
       "    <tr>\n",
       "      <th>2018-12-25</th>\n",
       "      <td>0</td>\n",
       "      <td>0</td>\n",
       "      <td>831</td>\n",
       "    </tr>\n",
       "    <tr>\n",
       "      <th>2018-12-26</th>\n",
       "      <td>0</td>\n",
       "      <td>0</td>\n",
       "      <td>831</td>\n",
       "    </tr>\n",
       "    <tr>\n",
       "      <th>...</th>\n",
       "      <td>...</td>\n",
       "      <td>...</td>\n",
       "      <td>...</td>\n",
       "    </tr>\n",
       "    <tr>\n",
       "      <th>2018-12-23</th>\n",
       "      <td>6</td>\n",
       "      <td>9</td>\n",
       "      <td>911</td>\n",
       "    </tr>\n",
       "    <tr>\n",
       "      <th>2018-12-24</th>\n",
       "      <td>6</td>\n",
       "      <td>9</td>\n",
       "      <td>893</td>\n",
       "    </tr>\n",
       "    <tr>\n",
       "      <th>2018-12-25</th>\n",
       "      <td>6</td>\n",
       "      <td>9</td>\n",
       "      <td>888</td>\n",
       "    </tr>\n",
       "    <tr>\n",
       "      <th>2018-12-26</th>\n",
       "      <td>6</td>\n",
       "      <td>9</td>\n",
       "      <td>896</td>\n",
       "    </tr>\n",
       "    <tr>\n",
       "      <th>2018-12-27</th>\n",
       "      <td>6</td>\n",
       "      <td>9</td>\n",
       "      <td>890</td>\n",
       "    </tr>\n",
       "  </tbody>\n",
       "</table>\n",
       "<p>420 rows × 3 columns</p>\n",
       "</div>"
      ],
      "text/plain": [
       "            store  product  number_sold\n",
       "Date                                   \n",
       "2018-12-22      0        0          843\n",
       "2018-12-23      0        0          818\n",
       "2018-12-24      0        0          826\n",
       "2018-12-25      0        0          831\n",
       "2018-12-26      0        0          831\n",
       "...           ...      ...          ...\n",
       "2018-12-23      6        9          911\n",
       "2018-12-24      6        9          893\n",
       "2018-12-25      6        9          888\n",
       "2018-12-26      6        9          896\n",
       "2018-12-27      6        9          890\n",
       "\n",
       "[420 rows x 3 columns]"
      ]
     },
     "execution_count": 20,
     "metadata": {},
     "output_type": "execute_result"
    }
   ],
   "source": [
    "sales_data['2018-12-22':'2018-12-27']"
   ]
  },
  {
   "cell_type": "markdown",
   "id": "2ff38990-d3d2-49a9-a61e-c028ab4940dc",
   "metadata": {},
   "source": [
    "We will calculate some summary statistics. The describe() function creates a summary of the loaded dataset's distribution."
   ]
  },
  {
   "cell_type": "code",
   "execution_count": 21,
   "id": "2bb1670e-f896-464f-b0d9-5d9d0b02e347",
   "metadata": {},
   "outputs": [
    {
     "data": {
      "text/html": [
       "<div>\n",
       "<style scoped>\n",
       "    .dataframe tbody tr th:only-of-type {\n",
       "        vertical-align: middle;\n",
       "    }\n",
       "\n",
       "    .dataframe tbody tr th {\n",
       "        vertical-align: top;\n",
       "    }\n",
       "\n",
       "    .dataframe thead th {\n",
       "        text-align: right;\n",
       "    }\n",
       "</style>\n",
       "<table border=\"1\" class=\"dataframe\">\n",
       "  <thead>\n",
       "    <tr style=\"text-align: right;\">\n",
       "      <th></th>\n",
       "      <th>store</th>\n",
       "      <th>product</th>\n",
       "      <th>number_sold</th>\n",
       "    </tr>\n",
       "  </thead>\n",
       "  <tbody>\n",
       "    <tr>\n",
       "      <th>count</th>\n",
       "      <td>230,090.00</td>\n",
       "      <td>230,090.00</td>\n",
       "      <td>230,090.00</td>\n",
       "    </tr>\n",
       "    <tr>\n",
       "      <th>mean</th>\n",
       "      <td>3.00</td>\n",
       "      <td>4.50</td>\n",
       "      <td>780.93</td>\n",
       "    </tr>\n",
       "    <tr>\n",
       "      <th>std</th>\n",
       "      <td>2.00</td>\n",
       "      <td>2.87</td>\n",
       "      <td>204.10</td>\n",
       "    </tr>\n",
       "    <tr>\n",
       "      <th>min</th>\n",
       "      <td>0.00</td>\n",
       "      <td>0.00</td>\n",
       "      <td>238.00</td>\n",
       "    </tr>\n",
       "    <tr>\n",
       "      <th>25%</th>\n",
       "      <td>1.00</td>\n",
       "      <td>2.00</td>\n",
       "      <td>722.00</td>\n",
       "    </tr>\n",
       "    <tr>\n",
       "      <th>50%</th>\n",
       "      <td>3.00</td>\n",
       "      <td>4.50</td>\n",
       "      <td>835.00</td>\n",
       "    </tr>\n",
       "    <tr>\n",
       "      <th>75%</th>\n",
       "      <td>5.00</td>\n",
       "      <td>7.00</td>\n",
       "      <td>914.00</td>\n",
       "    </tr>\n",
       "    <tr>\n",
       "      <th>max</th>\n",
       "      <td>6.00</td>\n",
       "      <td>9.00</td>\n",
       "      <td>1,205.00</td>\n",
       "    </tr>\n",
       "  </tbody>\n",
       "</table>\n",
       "</div>"
      ],
      "text/plain": [
       "           store    product  number_sold\n",
       "count 230,090.00 230,090.00   230,090.00\n",
       "mean        3.00       4.50       780.93\n",
       "std         2.00       2.87       204.10\n",
       "min         0.00       0.00       238.00\n",
       "25%         1.00       2.00       722.00\n",
       "50%         3.00       4.50       835.00\n",
       "75%         5.00       7.00       914.00\n",
       "max         6.00       9.00     1,205.00"
      ]
     },
     "execution_count": 21,
     "metadata": {},
     "output_type": "execute_result"
    }
   ],
   "source": [
    "sales_data.describe()"
   ]
  },
  {
   "cell_type": "markdown",
   "id": "35cd767d-d44e-4aac-8998-3555b53e4ec3",
   "metadata": {},
   "source": [
    "For numeric data, the result consists of count, mean, std, min, and max statistics as well as lower, 50, and upper percentils."
   ]
  },
  {
   "cell_type": "code",
   "execution_count": 22,
   "id": "8b1f037b-44df-412f-beb1-d46717b29376",
   "metadata": {},
   "outputs": [],
   "source": [
    "# import necessary Python packages\n",
    "import statsmodels.api as sm\n",
    "import warnings\n",
    "import matplotlib\n",
    "import matplotlib.pyplot as plt\n",
    "import matplotlib.dates as mdates\n",
    "%matplotlib inline \n",
    "warnings.filterwarnings(\"ignore\")"
   ]
  },
  {
   "cell_type": "code",
   "execution_count": 23,
   "id": "cd0dc6d3-e804-4ffd-9db8-a0b9cbcb56b8",
   "metadata": {},
   "outputs": [
    {
     "data": {
      "image/png": "[encoded data removed]",
      "text/plain": [
       "<Figure size 640x480 with 4 Axes>"
      ]
     },
     "metadata": {},
     "output_type": "display_data"
    }
   ],
   "source": [
    "sales_data_load = s1p1['number_sold']\n",
    "decomfreq=6*12\n",
    "decomposition = sm.tsa.seasonal_decompose(sales_data_load, model = 'additive',period=decomfreq)\n",
    "fig = decomposition.plot()\n",
    "matplotlib.rcParams['figure.figsize'] = [10.0, 6.0]"
   ]
  },
  {
   "cell_type": "markdown",
   "id": "ed51166a-c02c-47ab-a8ba-f22bdf6068df",
   "metadata": {},
   "source": [
    "To investigate the trend in the dataset, we can plot the trend alongside the observed time series. We can use Matplotlib's .YearLocator()."
   ]
  },
  {
   "cell_type": "code",
   "execution_count": 24,
   "id": "aec08cb4-12cd-42eb-a119-ba22851c0951",
   "metadata": {},
   "outputs": [
    {
     "data": {
      "text/plain": [
       "[<matplotlib.lines.Line2D at 0x16a149510>]"
      ]
     },
     "execution_count": 24,
     "metadata": {},
     "output_type": "execute_result"
    },
    {
     "data": {
      "image/png": "[encoded data removed]",
      "text/plain": [
       "<Figure size 1000x600 with 1 Axes>"
      ]
     },
     "metadata": {},
     "output_type": "display_data"
    }
   ],
   "source": [
    "decomfreq=6*12\n",
    "decomposition = sm.tsa.seasonal_decompose(sales_data_load, model = 'additive',period=decomfreq)\n",
    "\n",
    "fig, ax = plt.subplots()\n",
    "ax.grid(True)\n",
    "\n",
    "year = mdates.YearLocator(month=1)\n",
    "month = mdates.MonthLocator(interval=1) \n",
    "\n",
    "year_format = mdates.DateFormatter('%Y')\n",
    "month_format = mdates.DateFormatter('%m') \n",
    "\n",
    "ax.xaxis.set_minor_locator(month)\n",
    "ax.xaxis.grid(True, which = 'minor')\n",
    "ax.xaxis.set_major_locator(year)\n",
    "ax.xaxis.set_major_formatter(year_format)\n",
    "\n",
    "plt.plot(sales_data_load.index, sales_data_load, c='blue')\n",
    "plt.plot(decomposition.trend.index, decomposition.trend, c='white')"
   ]
  },
  {
   "cell_type": "markdown",
   "id": "15636d02-ec55-41a5-888f-04320ab6dfb6",
   "metadata": {},
   "source": [
    "## Time Series Data Normalisation and Standardisation"
   ]
  },
  {
   "cell_type": "markdown",
   "id": "740d1865-c4dd-47da-8219-e4e248a19158",
   "metadata": {},
   "source": [
    "Normalisation is the process of translating data into the range of [1,0]. The objective of normalisation is that the features are on the same scale. "
   ]
  },
  {
   "cell_type": "code",
   "execution_count": 25,
   "id": "62ca73cf-6793-41d8-a018-e2a1065fe742",
   "metadata": {},
   "outputs": [],
   "source": [
    "from pandas import Series\n",
    "from sklearn.preprocessing import MinMaxScaler"
   ]
  },
  {
   "cell_type": "code",
   "execution_count": 26,
   "id": "d99eecbc-5a9a-4d2e-9b07-2cafab9c953d",
   "metadata": {},
   "outputs": [
    {
     "name": "stdout",
     "output_type": "stream",
     "text": [
      "Min: 747.000000, Max: 921.000000\n"
     ]
    }
   ],
   "source": [
    "# prepare data for normalization\n",
    "values = sales_data_load.values\n",
    "values = values.reshape((len(values), 1))\n",
    "# train the normalization\n",
    "scaler = MinMaxScaler(feature_range=(0, 1))\n",
    "scaler = scaler.fit(values)\n",
    "print('Min: %f, Max: %f' % (scaler.data_min_, scaler.data_max_))"
   ]
  },
  {
   "cell_type": "code",
   "execution_count": 27,
   "id": "bd9814dc-d22d-4d8e-aa4b-f88adf9cd016",
   "metadata": {},
   "outputs": [
    {
     "name": "stdout",
     "output_type": "stream",
     "text": [
      "[0.31]\n",
      "[0.36]\n",
      "[0.41]\n",
      "[0.28]\n",
      "[0.35]\n"
     ]
    }
   ],
   "source": [
    "# normalize the data set and print the first 5 rows\n",
    "normalized = scaler.transform(values)\n",
    "for i in range(5): \n",
    "    print(normalized[i])"
   ]
  },
  {
   "cell_type": "code",
   "execution_count": 28,
   "id": "dcae8a8b-85b3-4fbf-8740-3a811fab2860",
   "metadata": {},
   "outputs": [
    {
     "name": "stdout",
     "output_type": "stream",
     "text": [
      "[801.]\n",
      "[810.]\n",
      "[818.]\n",
      "[796.]\n",
      "[808.]\n"
     ]
    }
   ],
   "source": [
    "# inverse transform and print the first 5 rows\n",
    "inversed = scaler.inverse_transform(normalized)\n",
    "for i in range(5): \n",
    "    print(inversed[i])"
   ]
  },
  {
   "cell_type": "markdown",
   "id": "c2dbd3b1-3f4f-4f52-83c0-d3db7cefd1a0",
   "metadata": {},
   "source": [
    "Standardisation is the process of rescaling data to fit a standard normal distribution. A standard normal distribution is defined as a distribution with a mean of 0 and a standard deviation of 1."
   ]
  },
  {
   "cell_type": "code",
   "execution_count": 29,
   "id": "6c3ac3ef-1f7b-4f19-a06d-dc967b1db783",
   "metadata": {},
   "outputs": [],
   "source": [
    "# Standardize time series data\n",
    "from sklearn.preprocessing import StandardScaler\n",
    "from math import sqrt "
   ]
  },
  {
   "cell_type": "code",
   "execution_count": 30,
   "id": "0df8d497-ffc6-4df4-bfdd-cc7b56b96b8e",
   "metadata": {},
   "outputs": [
    {
     "name": "stdout",
     "output_type": "stream",
     "text": [
      "Mean: 828.676909, StandardDeviation: 38.397140\n"
     ]
    }
   ],
   "source": [
    "# prepare data for standardization\n",
    "values = sales_data_load.values\n",
    "values = values.reshape((len(values), 1))\n",
    "# train the standardization\n",
    "scaler = StandardScaler()\n",
    "scaler = scaler.fit(values)\n",
    "print('Mean: %f, StandardDeviation: %f' % (scaler.mean_, sqrt(scaler.var_)))"
   ]
  },
  {
   "cell_type": "code",
   "execution_count": 31,
   "id": "a04876c1-8038-414c-97af-1c5aae562e59",
   "metadata": {},
   "outputs": [
    {
     "name": "stdout",
     "output_type": "stream",
     "text": [
      "[-0.72]\n",
      "[-0.49]\n",
      "[-0.28]\n",
      "[-0.85]\n",
      "[-0.54]\n"
     ]
    }
   ],
   "source": [
    "# standardization the data set and print the first 5 rows\n",
    "normalized = scaler.transform(values)\n",
    "for i in range(5): \n",
    "    print(normalized[i])"
   ]
  },
  {
   "cell_type": "code",
   "execution_count": 32,
   "id": "2356478e-b101-4c46-89c8-adac8b65c2fd",
   "metadata": {},
   "outputs": [
    {
     "name": "stdout",
     "output_type": "stream",
     "text": [
      "[801.]\n",
      "[810.]\n",
      "[818.]\n",
      "[796.]\n",
      "[808.]\n"
     ]
    }
   ],
   "source": [
    "# inverse transform and print the first 5 rows\n",
    "inversed = scaler.inverse_transform(normalized)\n",
    "for i in range(5): \n",
    "    print(inversed[i])"
   ]
  },
  {
   "cell_type": "markdown",
   "id": "d2731278-e146-4fe4-9df2-b7c6ca891da4",
   "metadata": {},
   "source": [
    "## Time Series Feature Engineering"
   ]
  },
  {
   "cell_type": "markdown",
   "id": "1aff574f-a73a-4d3a-b52a-0359b9b28744",
   "metadata": {},
   "source": [
    "We need to remodel the time series data  as a supervised learning dataset before we can start using machine learning algorithms."
   ]
  },
  {
   "cell_type": "markdown",
   "id": "5de5fe07-9acc-43ec-a038-22a259cb0095",
   "metadata": {},
   "source": [
    "### Date Time Features"
   ]
  },
  {
   "cell_type": "markdown",
   "id": "43a23381-81d5-46d7-ac7e-5fe50fa1a85d",
   "metadata": {},
   "source": [
    "#### Working with Date Time Index"
   ]
  },
  {
   "cell_type": "code",
   "execution_count": 33,
   "id": "a56ba37d-c489-421a-9179-b8eec1d1b869",
   "metadata": {},
   "outputs": [],
   "source": [
    "parsed_dates = sales_data.index"
   ]
  },
  {
   "cell_type": "code",
   "execution_count": 34,
   "id": "eef7d245-35b1-4538-a9c4-94e8feeed7ae",
   "metadata": {
    "scrolled": true
   },
   "outputs": [
    {
     "name": "stdout",
     "output_type": "stream",
     "text": [
      "            store  product  number_sold  hour  day of week  day name  month  \\\n",
      "Date                                                                          \n",
      "2010-01-01      0        0          801     0            1    Friday      1   \n",
      "2010-01-02      0        0          810     0            2  Saturday      1   \n",
      "2010-01-03      0        0          818     0            3    Sunday      1   \n",
      "2010-01-04      0        0          796     0            4    Monday      1   \n",
      "2010-01-05      0        0          808     0            5   Tuesday      1   \n",
      "\n",
      "            days in month  month start  month end  quarter  quarter start  \\\n",
      "Date                                                                        \n",
      "2010-01-01             31         True      False        1           True   \n",
      "2010-01-02             31        False      False        1          False   \n",
      "2010-01-03             31        False      False        1          False   \n",
      "2010-01-04             31        False      False        1          False   \n",
      "2010-01-05             31        False      False        1          False   \n",
      "\n",
      "            year  is leap year  \n",
      "Date                            \n",
      "2010-01-01  2010         False  \n",
      "2010-01-02  2010         False  \n",
      "2010-01-03  2010         False  \n",
      "2010-01-04  2010         False  \n",
      "2010-01-05  2010         False  \n"
     ]
    }
   ],
   "source": [
    "sales_data['hour'] = [parsed_dates[i].hour for i in range(len(sales_data))]\n",
    "sales_data['day of week'] = [parsed_dates[i].day for i in range(len(sales_data))]\n",
    "sales_data['day name'] = [parsed_dates[i].day_name() for i in range(len(sales_data))]\n",
    "sales_data['month'] = [parsed_dates[i].month for i in range(len(sales_data))]\n",
    "sales_data['days in month'] = [parsed_dates[i].days_in_month for i in range(len(sales_data))]\n",
    "sales_data['month start'] = [parsed_dates[i].is_month_start for i in range(len(sales_data))]\n",
    "sales_data['month end'] = [parsed_dates[i].is_month_end for i in range(len(sales_data))]\n",
    "sales_data['quarter'] = [parsed_dates[i].quarter for i in range(len(sales_data))]\n",
    "sales_data['quarter start'] = [parsed_dates[i].is_quarter_start for i in range(len(sales_data))]\n",
    "sales_data['year'] = [parsed_dates[i].year for i in range(len(sales_data))]\n",
    "sales_data['is leap year'] = [parsed_dates[i].is_leap_year for i in range(len(sales_data))]\n",
    "print(sales_data.head(5))"
   ]
  },
  {
   "cell_type": "markdown",
   "id": "d02fe286-a60d-4adf-8504-4e703e831c50",
   "metadata": {},
   "source": [
    "#### Working with Time Deltas"
   ]
  },
  {
   "cell_type": "markdown",
   "id": "4c527e2e-dae6-4680-9aa5-ea8d5778f5e2",
   "metadata": {},
   "source": [
    "We could add a datetime column to represent an expiration date which is 30 date from original date."
   ]
  },
  {
   "cell_type": "code",
   "execution_count": 35,
   "id": "6cd70124-c48d-4ece-9d95-2ed832c236af",
   "metadata": {},
   "outputs": [
    {
     "data": {
      "text/plain": [
       "Date\n",
       "2010-01-01   2010-01-31\n",
       "2010-01-02   2010-02-01\n",
       "2010-01-03   2010-02-02\n",
       "2010-01-04   2010-02-03\n",
       "2010-01-05   2010-02-04\n",
       "                ...    \n",
       "2018-12-27   2019-01-26\n",
       "2018-12-28   2019-01-27\n",
       "2018-12-29   2019-01-28\n",
       "2018-12-30   2019-01-29\n",
       "2018-12-31   2019-01-30\n",
       "Name: expiration date, Length: 230090, dtype: datetime64[ns]"
      ]
     },
     "execution_count": 35,
     "metadata": {},
     "output_type": "execute_result"
    }
   ],
   "source": [
    "sales_data['expiration date'] = parsed_dates + pd.Timedelta(days=30)\n",
    "sales_data['expiration date']"
   ]
  },
  {
   "cell_type": "markdown",
   "id": "468f1179-3537-4f00-b8a4-ce99f3228390",
   "metadata": {},
   "source": [
    "We could add another datetime column to represent an extended warranty which is 35 days 12 hours 30 minutes."
   ]
  },
  {
   "cell_type": "code",
   "execution_count": 36,
   "id": "e28ed53d-5863-4157-99a9-2887bd78ad8d",
   "metadata": {},
   "outputs": [
    {
     "data": {
      "text/plain": [
       "Date\n",
       "2010-01-01   2010-02-05 12:30:00\n",
       "2010-01-02   2010-02-06 12:30:00\n",
       "2010-01-03   2010-02-07 12:30:00\n",
       "2010-01-04   2010-02-08 12:30:00\n",
       "2010-01-05   2010-02-09 12:30:00\n",
       "                     ...        \n",
       "2018-12-27   2019-01-31 12:30:00\n",
       "2018-12-28   2019-02-01 12:30:00\n",
       "2018-12-29   2019-02-02 12:30:00\n",
       "2018-12-30   2019-02-03 12:30:00\n",
       "2018-12-31   2019-02-04 12:30:00\n",
       "Name: extended warranty, Length: 230090, dtype: datetime64[ns]"
      ]
     },
     "execution_count": 36,
     "metadata": {},
     "output_type": "execute_result"
    }
   ],
   "source": [
    "sales_data['extended warranty'] = parsed_dates + pd.Timedelta('35 days 12 hours 30 minutes')\n",
    "sales_data['extended warranty']"
   ]
  },
  {
   "cell_type": "markdown",
   "id": "cd0d1e74-0b82-4c32-8b93-1d72177741dd",
   "metadata": {},
   "source": [
    "We could also calculate the delta between two dates. Since both dates are datetime data types, we can achieve this with a simple substraction between two columns."
   ]
  },
  {
   "cell_type": "code",
   "execution_count": 37,
   "id": "0bd1425f-76d1-4a8f-b795-7202fae852e2",
   "metadata": {},
   "outputs": [
    {
     "data": {
      "text/plain": [
       "Date\n",
       "2010-01-01   5 days 12:30:00\n",
       "2010-01-02   5 days 12:30:00\n",
       "2010-01-03   5 days 12:30:00\n",
       "2010-01-04   5 days 12:30:00\n",
       "2010-01-05   5 days 12:30:00\n",
       "                   ...      \n",
       "2018-12-27   5 days 12:30:00\n",
       "2018-12-28   5 days 12:30:00\n",
       "2018-12-29   5 days 12:30:00\n",
       "2018-12-30   5 days 12:30:00\n",
       "2018-12-31   5 days 12:30:00\n",
       "Length: 230090, dtype: timedelta64[ns]"
      ]
     },
     "execution_count": 37,
     "metadata": {},
     "output_type": "execute_result"
    }
   ],
   "source": [
    "sales_data['extended warranty'] - sales_data['expiration date']"
   ]
  },
  {
   "cell_type": "markdown",
   "id": "63884dd4-55a0-4ad6-99d3-376f0ed02704",
   "metadata": {},
   "source": [
    "#### Working with date offsets"
   ]
  },
  {
   "cell_type": "markdown",
   "id": "f58c5681-902c-4205-9f2b-7faf38cbab19",
   "metadata": {},
   "source": [
    "With pandas.tseries.offsets.BusinessDay() function we can create an offset of business days."
   ]
  },
  {
   "cell_type": "code",
   "execution_count": 38,
   "id": "c046e81e-c7a2-4a99-b8f0-4a488d2e9850",
   "metadata": {},
   "outputs": [
    {
     "data": {
      "text/plain": [
       "Date\n",
       "2010-01-01   2010-01-01\n",
       "2010-01-02   2010-01-04\n",
       "2010-01-03   2010-01-04\n",
       "2010-01-04   2010-01-04\n",
       "2010-01-05   2010-01-05\n",
       "                ...    \n",
       "2018-12-27   2018-12-27\n",
       "2018-12-28   2018-12-28\n",
       "2018-12-29   2018-12-31\n",
       "2018-12-30   2018-12-31\n",
       "2018-12-31   2018-12-31\n",
       "Name: Business Day, Length: 230090, dtype: datetime64[ns]"
      ]
     },
     "execution_count": 38,
     "metadata": {},
     "output_type": "execute_result"
    }
   ],
   "source": [
    "sales_data['Business Day'] = sales_data.index + pd.offsets.BDay(0)\n",
    "sales_data['Business Day']"
   ]
  },
  {
   "cell_type": "code",
   "execution_count": 39,
   "id": "eefa3633-7311-4005-adbd-e2f7aea20858",
   "metadata": {},
   "outputs": [
    {
     "data": {
      "text/plain": [
       "Date\n",
       "2010-01-01   2010-03-31\n",
       "2010-01-02   2010-03-31\n",
       "2010-01-03   2010-03-31\n",
       "2010-01-04   2010-03-31\n",
       "2010-01-05   2010-03-31\n",
       "                ...    \n",
       "2018-12-27   2018-12-31\n",
       "2018-12-28   2018-12-31\n",
       "2018-12-29   2018-12-31\n",
       "2018-12-30   2018-12-31\n",
       "2018-12-31   2018-12-31\n",
       "Name: Quarter End, Length: 230090, dtype: datetime64[ns]"
      ]
     },
     "execution_count": 39,
     "metadata": {},
     "output_type": "execute_result"
    }
   ],
   "source": [
    "sales_data['Quarter End'] = sales_data.index + pd.offsets.QuarterEnd(0)\n",
    "sales_data['Quarter End']"
   ]
  },
  {
   "cell_type": "code",
   "execution_count": 40,
   "id": "06653dd2-d7ee-4a87-923b-2a658cc9ac74",
   "metadata": {},
   "outputs": [
    {
     "data": {
      "text/plain": [
       "Date\n",
       "2010-01-01   2010-01-31\n",
       "2010-01-02   2010-01-31\n",
       "2010-01-03   2010-01-31\n",
       "2010-01-04   2010-01-31\n",
       "2010-01-05   2010-01-31\n",
       "                ...    \n",
       "2018-12-27   2018-12-31\n",
       "2018-12-28   2018-12-31\n",
       "2018-12-29   2018-12-31\n",
       "2018-12-30   2018-12-31\n",
       "2018-12-31   2018-12-31\n",
       "Name: Month End, Length: 230090, dtype: datetime64[ns]"
      ]
     },
     "execution_count": 40,
     "metadata": {},
     "output_type": "execute_result"
    }
   ],
   "source": [
    "sales_data['Month End'] = sales_data.index + pd.offsets.MonthEnd(0)\n",
    "sales_data['Month End']"
   ]
  },
  {
   "cell_type": "markdown",
   "id": "f90fb086-0c2b-4cce-9088-019c4ea59574",
   "metadata": {},
   "source": [
    "### Lag Features and Window Features"
   ]
  },
  {
   "cell_type": "markdown",
   "id": "ae6101a6-1582-48cd-a7fa-9667aeb746ad",
   "metadata": {},
   "source": [
    "We can predict the value at the next time step given the value at the previous time step. The underlying assumption is that was happened in the past can influence the future. The pandas shift( ) function helps to create these lag features from a time series dataset. "
   ]
  },
  {
   "cell_type": "code",
   "execution_count": 41,
   "id": "297e3c52-8dda-48b4-a151-bf2993626ee3",
   "metadata": {},
   "outputs": [
    {
     "data": {
      "text/html": [
       "<div>\n",
       "<style scoped>\n",
       "    .dataframe tbody tr th:only-of-type {\n",
       "        vertical-align: middle;\n",
       "    }\n",
       "\n",
       "    .dataframe tbody tr th {\n",
       "        vertical-align: top;\n",
       "    }\n",
       "\n",
       "    .dataframe thead th {\n",
       "        text-align: right;\n",
       "    }\n",
       "</style>\n",
       "<table border=\"1\" class=\"dataframe\">\n",
       "  <thead>\n",
       "    <tr style=\"text-align: right;\">\n",
       "      <th></th>\n",
       "      <th>store</th>\n",
       "      <th>product</th>\n",
       "      <th>number_sold</th>\n",
       "      <th>Lag1</th>\n",
       "      <th>Lag2</th>\n",
       "      <th>Lag3</th>\n",
       "    </tr>\n",
       "    <tr>\n",
       "      <th>Date</th>\n",
       "      <th></th>\n",
       "      <th></th>\n",
       "      <th></th>\n",
       "      <th></th>\n",
       "      <th></th>\n",
       "      <th></th>\n",
       "    </tr>\n",
       "  </thead>\n",
       "  <tbody>\n",
       "    <tr>\n",
       "      <th>2010-01-01</th>\n",
       "      <td>0</td>\n",
       "      <td>0</td>\n",
       "      <td>801</td>\n",
       "      <td>NaN</td>\n",
       "      <td>NaN</td>\n",
       "      <td>NaN</td>\n",
       "    </tr>\n",
       "    <tr>\n",
       "      <th>2010-01-02</th>\n",
       "      <td>0</td>\n",
       "      <td>0</td>\n",
       "      <td>810</td>\n",
       "      <td>801.00</td>\n",
       "      <td>NaN</td>\n",
       "      <td>NaN</td>\n",
       "    </tr>\n",
       "    <tr>\n",
       "      <th>2010-01-03</th>\n",
       "      <td>0</td>\n",
       "      <td>0</td>\n",
       "      <td>818</td>\n",
       "      <td>810.00</td>\n",
       "      <td>NaN</td>\n",
       "      <td>NaN</td>\n",
       "    </tr>\n",
       "    <tr>\n",
       "      <th>2010-01-04</th>\n",
       "      <td>0</td>\n",
       "      <td>0</td>\n",
       "      <td>796</td>\n",
       "      <td>818.00</td>\n",
       "      <td>801.00</td>\n",
       "      <td>NaN</td>\n",
       "    </tr>\n",
       "    <tr>\n",
       "      <th>2010-01-05</th>\n",
       "      <td>0</td>\n",
       "      <td>0</td>\n",
       "      <td>808</td>\n",
       "      <td>796.00</td>\n",
       "      <td>810.00</td>\n",
       "      <td>NaN</td>\n",
       "    </tr>\n",
       "    <tr>\n",
       "      <th>...</th>\n",
       "      <td>...</td>\n",
       "      <td>...</td>\n",
       "      <td>...</td>\n",
       "      <td>...</td>\n",
       "      <td>...</td>\n",
       "      <td>...</td>\n",
       "    </tr>\n",
       "    <tr>\n",
       "      <th>2018-12-27</th>\n",
       "      <td>6</td>\n",
       "      <td>9</td>\n",
       "      <td>890</td>\n",
       "      <td>896.00</td>\n",
       "      <td>893.00</td>\n",
       "      <td>931.00</td>\n",
       "    </tr>\n",
       "    <tr>\n",
       "      <th>2018-12-28</th>\n",
       "      <td>6</td>\n",
       "      <td>9</td>\n",
       "      <td>892</td>\n",
       "      <td>890.00</td>\n",
       "      <td>888.00</td>\n",
       "      <td>911.00</td>\n",
       "    </tr>\n",
       "    <tr>\n",
       "      <th>2018-12-29</th>\n",
       "      <td>6</td>\n",
       "      <td>9</td>\n",
       "      <td>895</td>\n",
       "      <td>892.00</td>\n",
       "      <td>896.00</td>\n",
       "      <td>893.00</td>\n",
       "    </tr>\n",
       "    <tr>\n",
       "      <th>2018-12-30</th>\n",
       "      <td>6</td>\n",
       "      <td>9</td>\n",
       "      <td>899</td>\n",
       "      <td>895.00</td>\n",
       "      <td>890.00</td>\n",
       "      <td>888.00</td>\n",
       "    </tr>\n",
       "    <tr>\n",
       "      <th>2018-12-31</th>\n",
       "      <td>6</td>\n",
       "      <td>9</td>\n",
       "      <td>912</td>\n",
       "      <td>899.00</td>\n",
       "      <td>892.00</td>\n",
       "      <td>896.00</td>\n",
       "    </tr>\n",
       "  </tbody>\n",
       "</table>\n",
       "<p>230090 rows × 6 columns</p>\n",
       "</div>"
      ],
      "text/plain": [
       "            store  product  number_sold   Lag1   Lag2   Lag3\n",
       "Date                                                        \n",
       "2010-01-01      0        0          801    NaN    NaN    NaN\n",
       "2010-01-02      0        0          810 801.00    NaN    NaN\n",
       "2010-01-03      0        0          818 810.00    NaN    NaN\n",
       "2010-01-04      0        0          796 818.00 801.00    NaN\n",
       "2010-01-05      0        0          808 796.00 810.00    NaN\n",
       "...           ...      ...          ...    ...    ...    ...\n",
       "2018-12-27      6        9          890 896.00 893.00 931.00\n",
       "2018-12-28      6        9          892 890.00 888.00 911.00\n",
       "2018-12-29      6        9          895 892.00 896.00 893.00\n",
       "2018-12-30      6        9          899 895.00 890.00 888.00\n",
       "2018-12-31      6        9          912 899.00 892.00 896.00\n",
       "\n",
       "[230090 rows x 6 columns]"
      ]
     },
     "execution_count": 41,
     "metadata": {},
     "output_type": "execute_result"
    }
   ],
   "source": [
    "ts_data['Lag1'] = ts_data['number_sold'].shift(1) # Lag with 1 day\n",
    "ts_data['Lag2'] = ts_data['number_sold'].shift(3) # lag with 3 days\n",
    "ts_data['Lag3'] = ts_data['number_sold'].shift(5) # lag with 5 days\n",
    "ts_data"
   ]
  },
  {
   "cell_type": "markdown",
   "id": "6cc28e75-db3a-4c0d-b30b-091c9793b71b",
   "metadata": {},
   "source": [
    "### Rolling Window Statistics"
   ]
  },
  {
   "cell_type": "markdown",
   "id": "5b4d628a-f626-4190-a2ea-6ad07565e5e0",
   "metadata": {},
   "source": [
    "One of the more popular rolling statistics is the moving average. The moving average calculates the mean of that time period as the current value. Pandas rolling() function provides rolling window calculations. It creates a new data structure with the window of values at each time step."
   ]
  },
  {
   "cell_type": "code",
   "execution_count": 42,
   "id": "a49f4d83-64b7-4141-9039-b88f17d07c31",
   "metadata": {},
   "outputs": [
    {
     "name": "stdout",
     "output_type": "stream",
     "text": [
      "   mean(t-2,t-1)  t+1\n",
      "0            NaN  801\n",
      "1            NaN  810\n",
      "2         805.50  818\n",
      "3         814.00  796\n",
      "4         807.00  808\n"
     ]
    }
   ],
   "source": [
    "number_sold = pd.DataFrame(ts_data['number_sold'].values)\n",
    "shifted = number_sold.shift(1)\n",
    "window = shifted.rolling(window=2)\n",
    "means = window.mean()\n",
    "dataframe = pd.concat([means, number_sold], axis=1)\n",
    "dataframe.columns = ['mean(t-2,t-1)', 't+1']\n",
    "print(dataframe.head(5))"
   ]
  },
  {
   "cell_type": "code",
   "execution_count": 43,
   "id": "c663d2fa-5e76-40c1-bf0f-fcadc37593fd",
   "metadata": {},
   "outputs": [
    {
     "name": "stdout",
     "output_type": "stream",
     "text": [
      "   mean(t-3,t-2,t-1)  t+1\n",
      "0                NaN  801\n",
      "1                NaN  810\n",
      "2                NaN  818\n",
      "3             809.67  796\n",
      "4             808.00  808\n",
      "5             807.33  812\n",
      "6             805.33  830\n",
      "7             816.67  812\n",
      "8             818.00  817\n",
      "9             819.67  832\n"
     ]
    }
   ],
   "source": [
    "window = shifted.rolling(window=3)\n",
    "means = window.mean()\n",
    "new_dataframe = pd.concat([means, number_sold], axis=1)\n",
    "new_dataframe.columns = ['mean(t-3,t-2,t-1)', 't+1']\n",
    "print(new_dataframe.head(10))"
   ]
  },
  {
   "cell_type": "markdown",
   "id": "b09186f0-7885-4102-8e2f-8200bfe312af",
   "metadata": {},
   "source": [
    "### Expanding Window Statistics"
   ]
  },
  {
   "cell_type": "markdown",
   "id": "1cd4fd3d-9c14-4687-a4ac-07bf85ff966c",
   "metadata": {},
   "source": [
    "Pandas expanding( ) function provides expanding window calculations."
   ]
  },
  {
   "cell_type": "code",
   "execution_count": 44,
   "id": "ba92f62b-4256-475a-801f-f62fa61fe171",
   "metadata": {},
   "outputs": [
    {
     "name": "stdout",
     "output_type": "stream",
     "text": [
      "     min   mean    max    t+1\n",
      "0 801.00 801.00 801.00 810.00\n",
      "1 801.00 805.50 810.00 818.00\n",
      "2 801.00 809.67 818.00 796.00\n",
      "3 796.00 806.25 818.00 808.00\n",
      "4 796.00 806.60 818.00 812.00\n"
     ]
    }
   ],
   "source": [
    "# create expanding window features\n",
    "number_sold = pd.DataFrame(ts_data['number_sold'].values)\n",
    "window_exp = number_sold.expanding()\n",
    "dataframe = pd.concat([window_exp.min(), window_exp.mean(), window_exp.max(), number_sold.shift(-1)], axis=1)\n",
    "dataframe.columns = ['min', 'mean', 'max', 't+1']\n",
    "print(dataframe.head(5))"
   ]
  }
 ],
 "metadata": {
  "kernelspec": {
   "display_name": "env",
   "language": "python",
   "name": "env"
  },
  "language_info": {
   "codemirror_mode": {
    "name": "ipython",
    "version": 3
   },
   "file_extension": ".py",
   "mimetype": "text/x-python",
   "name": "python",
   "nbconvert_exporter": "python",
   "pygments_lexer": "ipython3",
   "version": "3.11.5"
  }
 },
 "nbformat": 4,
 "nbformat_minor": 5
}
